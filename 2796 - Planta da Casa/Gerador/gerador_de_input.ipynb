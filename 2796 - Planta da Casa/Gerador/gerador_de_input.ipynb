{
 "cells": [
  {
   "cell_type": "code",
   "execution_count": 1,
   "metadata": {},
   "outputs": [],
   "source": [
    "from random import randint\n",
    "N = 40\n",
    "M = 80\n",
    "NUM_MESAS = 100\n",
    "\n",
    "def gerar_mesa():\n",
    "    global N\n",
    "    global M\n",
    "    return \"{} {}\\n\".format(randint(1,N/2),randint(1,M/2))\n",
    "def gerar_ponto():\n",
    "    ocupado = '#'\n",
    "    vazio = '.'\n",
    "    var = randint(1,6)\n",
    "    if var > 5:\n",
    "        return ocupado\n",
    "    else:\n",
    "        return vazio\n",
    "def gerar_planta():\n",
    "    sala = \"\"\n",
    "    for i in range(N):\n",
    "        for j in range(M):\n",
    "            sala += gerar_ponto()\n",
    "        sala += '\\n'\n",
    "    return sala"
   ]
  },
  {
   "cell_type": "code",
   "execution_count": null,
   "metadata": {},
   "outputs": [],
   "source": []
  },
  {
   "cell_type": "code",
   "execution_count": 2,
   "metadata": {},
   "outputs": [],
   "source": [
    "arquivo = \"{} {}\\n\".format(M,N)\n",
    "arquivo += gerar_planta()\n",
    "arquivo += \"{}\\n\".format(NUM_MESAS)\n",
    "for i in range(NUM_MESAS):\n",
    "    arquivo += gerar_mesa() \n"
   ]
  },
  {
   "cell_type": "code",
   "execution_count": 3,
   "metadata": {},
   "outputs": [],
   "source": [
    "text_file = open(\"input78.txt\", \"w\")\n",
    "text_file.write(\"{}\".format(arquivo))\n",
    "text_file.close()"
   ]
  },
  {
   "cell_type": "code",
   "execution_count": null,
   "metadata": {},
   "outputs": [],
   "source": []
  }
 ],
 "metadata": {
  "kernelspec": {
   "display_name": "Python 3",
   "language": "python",
   "name": "python3"
  },
  "language_info": {
   "codemirror_mode": {
    "name": "ipython",
    "version": 3
   },
   "file_extension": ".py",
   "mimetype": "text/x-python",
   "name": "python",
   "nbconvert_exporter": "python",
   "pygments_lexer": "ipython3",
   "version": "3.7.2"
  }
 },
 "nbformat": 4,
 "nbformat_minor": 2
}
